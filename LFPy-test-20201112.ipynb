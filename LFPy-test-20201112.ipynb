{
 "cells": [
  {
   "cell_type": "code",
   "execution_count": 1,
   "metadata": {},
   "outputs": [],
   "source": [
    "%matplotlib inline\n",
    "import LFPy\n",
    "import numpy as np\n",
    "import scipy.io as sio\n",
    "import matplotlib.pyplot as plt\n",
    "import plotly.graph_objects as go"
   ]
  },
  {
   "cell_type": "code",
   "execution_count": 2,
   "metadata": {},
   "outputs": [],
   "source": [
    "# Define cell parameters\n",
    "cell_parameters = {          # various cell parameters,\n",
    "    'morphology' : 'morphologies/L5_Mainen96_LFPy.hoc', # Mainen&Sejnowski, 1996\n",
    "    'cm' : 1.0,         # membrane capacitance\n",
    "    'Ra' : 150.,        # axial resistance\n",
    "    'v_init' : -65.,    # initial crossmembrane potential\n",
    "    'passive' : True,   # turn on passive mechanism for all sections\n",
    "    'passive_parameters' : {'g_pas' : 1./30000, 'e_pas' : -65}, # passive params\n",
    "    'nsegs_method' : 'lambda_f', # lambda_f method\n",
    "    'lambda_f' : 100.,  # lambda_f critical frequency\n",
    "    'dt' : 2.**-3,      # simulation time step size\n",
    "    'tstart' : 0.,      # start time of simulation, recorders start at t=0\n",
    "    'tstop' : 100.,     # stop simulation at 200 ms. These can be overridden\n",
    "    'extracellular' : True,\n",
    "                        # by setting these arguments in cell.simulation()\n",
    "}\n",
    "\n",
    "# Create cell\n",
    "cell = LFPy.Cell(**cell_parameters)"
   ]
  },
  {
   "cell_type": "code",
   "execution_count": 3,
   "metadata": {},
   "outputs": [],
   "source": [
    "# Define synapse parameters\n",
    "synapse_parameters = {\n",
    "    'idx' : cell.get_closest_idx(x=0., y=0., z=900.),\n",
    "    'e' : 0.,                   # reversal potential\n",
    "    'syntype' : 'Exp2Syn',       # synapse type\n",
    "    'tau1' : 0.5,\n",
    "    'tau2' : 2.,\n",
    "    'weight' : 0.005,            # syn. weight\n",
    "    'record_current' : True,\n",
    "}\n",
    "\n",
    "#synapse_parameters = {\n",
    "#    'idx' : cell.get_closest_idx(x=0., y=0., z=900.),\n",
    "#    'e' : 0.,                   # reversal potential\n",
    "#    'syntype' : 'ExpSyn',       # synapse type\n",
    "#    'tau' : 10.,                # syn. time constant\n",
    "#    'weight' : .001,            # syn. weight\n",
    "#    'record_current' : True,\n",
    "#}\n",
    "\n",
    "# Create synapse and set time of synaptic input\n",
    "synapse = LFPy.Synapse(cell, **synapse_parameters)\n",
    "\n",
    "synapse.set_spike_times(np.array([10., 30., 50., 70.]))\n",
    "#synapse.set_spike_times_w_netstim(noise=1.0, start=0.0, number=1000.0, interval=10.0, seed=1234.0)"
   ]
  },
  {
   "cell_type": "code",
   "execution_count": 4,
   "metadata": {},
   "outputs": [
    {
     "ename": "TypeError",
     "evalue": "ufunc 'true_divide' output (typecode 'd') could not be coerced to provided output parameter (typecode 'l') according to the casting rule ''same_kind''",
     "output_type": "error",
     "traceback": [
      "\u001b[0;31m---------------------------------------------------------------------------\u001b[0m",
      "\u001b[0;31mTypeError\u001b[0m                                 Traceback (most recent call last)",
      "\u001b[0;32m<ipython-input-4-9ebe0e95c6d8>\u001b[0m in \u001b[0;36m<module>\u001b[0;34m()\u001b[0m\n\u001b[1;32m     15\u001b[0m \u001b[0;34m\u001b[0m\u001b[0m\n\u001b[1;32m     16\u001b[0m \u001b[0;31m# Create electrode object\u001b[0m\u001b[0;34m\u001b[0m\u001b[0;34m\u001b[0m\u001b[0;34m\u001b[0m\u001b[0m\n\u001b[0;32m---> 17\u001b[0;31m \u001b[0melectrode\u001b[0m \u001b[0;34m=\u001b[0m \u001b[0mLFPy\u001b[0m\u001b[0;34m.\u001b[0m\u001b[0mRecExtElectrode\u001b[0m\u001b[0;34m(\u001b[0m\u001b[0;34m**\u001b[0m\u001b[0melectrode_parameters\u001b[0m\u001b[0;34m)\u001b[0m\u001b[0;34m\u001b[0m\u001b[0;34m\u001b[0m\u001b[0m\n\u001b[0m",
      "\u001b[0;32m/opt/conda/envs/lfpy/lib/python3.7/site-packages/LFPy/recextelectrode.py\u001b[0m in \u001b[0;36m__init__\u001b[0;34m(self, cell, sigma, probe, x, y, z, N, r, n, contact_shape, perCellLFP, method, from_file, cellfile, verbose, seedvalue, **kwargs)\u001b[0m\n\u001b[1;32m    289\u001b[0m             probe_info = {'pos': positions, 'description': 'custom', 'size': self.r, 'shape': self.contact_shape,\n\u001b[1;32m    290\u001b[0m                           'type': 'wire', 'center': False}  # add mea type\n\u001b[0;32m--> 291\u001b[0;31m             \u001b[0mself\u001b[0m\u001b[0;34m.\u001b[0m\u001b[0mprobe\u001b[0m \u001b[0;34m=\u001b[0m \u001b[0mmu\u001b[0m\u001b[0;34m.\u001b[0m\u001b[0mMEA\u001b[0m\u001b[0;34m(\u001b[0m\u001b[0mpositions\u001b[0m\u001b[0;34m=\u001b[0m\u001b[0mpositions\u001b[0m\u001b[0;34m,\u001b[0m \u001b[0minfo\u001b[0m\u001b[0;34m=\u001b[0m\u001b[0mprobe_info\u001b[0m\u001b[0;34m,\u001b[0m \u001b[0mnormal\u001b[0m\u001b[0;34m=\u001b[0m\u001b[0mself\u001b[0m\u001b[0;34m.\u001b[0m\u001b[0mN\u001b[0m\u001b[0;34m,\u001b[0m \u001b[0msigma\u001b[0m\u001b[0;34m=\u001b[0m\u001b[0mself\u001b[0m\u001b[0;34m.\u001b[0m\u001b[0msigma\u001b[0m\u001b[0;34m)\u001b[0m\u001b[0;34m\u001b[0m\u001b[0;34m\u001b[0m\u001b[0m\n\u001b[0m\u001b[1;32m    292\u001b[0m         \u001b[0;32melse\u001b[0m\u001b[0;34m:\u001b[0m\u001b[0;34m\u001b[0m\u001b[0;34m\u001b[0m\u001b[0m\n\u001b[1;32m    293\u001b[0m             \u001b[0;32massert\u001b[0m \u001b[0misinstance\u001b[0m\u001b[0;34m(\u001b[0m\u001b[0mprobe\u001b[0m\u001b[0;34m,\u001b[0m \u001b[0mmu\u001b[0m\u001b[0;34m.\u001b[0m\u001b[0mcore\u001b[0m\u001b[0;34m.\u001b[0m\u001b[0mMEA\u001b[0m\u001b[0;34m)\u001b[0m\u001b[0;34m,\u001b[0m \u001b[0;34m\"'probe' should be a MEAutility MEA object\"\u001b[0m\u001b[0;34m\u001b[0m\u001b[0;34m\u001b[0m\u001b[0m\n",
      "\u001b[0;32m/opt/conda/envs/lfpy/lib/python3.7/site-packages/MEAutility/core.py\u001b[0m in \u001b[0;36m__init__\u001b[0;34m(self, positions, info, normal, points_per_electrode, sigma)\u001b[0m\n\u001b[1;32m    376\u001b[0m                     \u001b[0mnormal\u001b[0m \u001b[0;34m=\u001b[0m \u001b[0mnp\u001b[0m\u001b[0;34m.\u001b[0m\u001b[0mcross\u001b[0m\u001b[0;34m(\u001b[0m\u001b[0mpositions\u001b[0m\u001b[0;34m[\u001b[0m\u001b[0;36m0\u001b[0m\u001b[0;34m]\u001b[0m\u001b[0;34m,\u001b[0m \u001b[0mpositions\u001b[0m\u001b[0;34m[\u001b[0m\u001b[0;36m1\u001b[0m\u001b[0;34m]\u001b[0m\u001b[0;34m)\u001b[0m\u001b[0;34m\u001b[0m\u001b[0;34m\u001b[0m\u001b[0m\n\u001b[1;32m    377\u001b[0m                     \u001b[0;32mif\u001b[0m \u001b[0mnp\u001b[0m\u001b[0;34m.\u001b[0m\u001b[0mlinalg\u001b[0m\u001b[0;34m.\u001b[0m\u001b[0mnorm\u001b[0m\u001b[0;34m(\u001b[0m\u001b[0mnormal\u001b[0m\u001b[0;34m)\u001b[0m \u001b[0;34m>\u001b[0m \u001b[0;36m0\u001b[0m\u001b[0;34m:\u001b[0m\u001b[0;34m\u001b[0m\u001b[0;34m\u001b[0m\u001b[0m\n\u001b[0;32m--> 378\u001b[0;31m                         \u001b[0mnormal\u001b[0m \u001b[0;34m/=\u001b[0m \u001b[0mnp\u001b[0m\u001b[0;34m.\u001b[0m\u001b[0mlinalg\u001b[0m\u001b[0;34m.\u001b[0m\u001b[0mnorm\u001b[0m\u001b[0;34m(\u001b[0m\u001b[0mnormal\u001b[0m\u001b[0;34m)\u001b[0m\u001b[0;34m\u001b[0m\u001b[0;34m\u001b[0m\u001b[0m\n\u001b[0m\u001b[1;32m    379\u001b[0m                         \u001b[0mself\u001b[0m\u001b[0;34m.\u001b[0m\u001b[0mnormal\u001b[0m \u001b[0;34m=\u001b[0m \u001b[0mnp\u001b[0m\u001b[0;34m.\u001b[0m\u001b[0marray\u001b[0m\u001b[0;34m(\u001b[0m\u001b[0;34m[\u001b[0m\u001b[0mnormal\u001b[0m\u001b[0;34m]\u001b[0m \u001b[0;34m*\u001b[0m \u001b[0mself\u001b[0m\u001b[0;34m.\u001b[0m\u001b[0mnumber_electrodes\u001b[0m\u001b[0;34m)\u001b[0m\u001b[0;34m\u001b[0m\u001b[0;34m\u001b[0m\u001b[0m\n\u001b[1;32m    380\u001b[0m                     \u001b[0;32melse\u001b[0m\u001b[0;34m:\u001b[0m\u001b[0;34m\u001b[0m\u001b[0;34m\u001b[0m\u001b[0m\n",
      "\u001b[0;31mTypeError\u001b[0m: ufunc 'true_divide' output (typecode 'd') could not be coerced to provided output parameter (typecode 'l') according to the casting rule ''same_kind''"
     ]
    }
   ],
   "source": [
    "# Create a grid of measurement locations, in (mum)\n",
    "#X, Z = np.mgrid[-500:501:20, -400:1201:40]\n",
    "#Y = np.zeros(X.shape)\n",
    "X, Y, Z = np.mgrid[-500:501:50, -500:501:50, -400:1201:50]   #51*51*41\n",
    "#X, Y, Z = np.mgrid[-500:501:20, -500:501:20, -400:1201:40]   #51*51*41\n",
    "#X, Y, Z = np.mgrid[-5000:501:20, -500:501:20, -400:1201:40]   #51*51*41\n",
    "\n",
    "# Define electrode parameters\n",
    "electrode_parameters = {\n",
    "    'sigma' : 0.3,      # extracellular conductivity\n",
    "    'x' : X.flatten(),  # electrode requires 1d vector of positions\n",
    "    'y' : Y.flatten(),\n",
    "    'z' : Z.flatten()\n",
    "}\n",
    "\n",
    "# Create electrode object\n",
    "electrode = LFPy.RecExtElectrode(**electrode_parameters)"
   ]
  },
  {
   "cell_type": "code",
   "execution_count": null,
   "metadata": {},
   "outputs": [],
   "source": [
    "# Run simulation, electrode object argument in cell.simulate\n",
    "cell.simulate(electrode=electrode, rec_imem=True)"
   ]
  },
  {
   "cell_type": "code",
   "execution_count": null,
   "metadata": {},
   "outputs": [],
   "source": [
    "plt.figure(figsize=(12, 9))\n",
    "plt.subplot(222)\n",
    "plt.plot(cell.tvec, synapse.i, 'r'), plt.title('synaptic current (pA)')\n",
    "plt.subplot(224)\n",
    "plt.plot(cell.tvec, cell.somav, 'g'), plt.title('somatic voltage (mV)')\n",
    "plt.subplot(121)\n",
    "for sec in LFPy.cell.neuron.h.allsec():\n",
    "    idx = cell.get_idx(sec.name())\n",
    "    plt.plot(np.r_[cell.xstart[idx], cell.xend[idx][-1]], np.r_[cell.zstart[idx], cell.zend[idx][-1]], color='k')\n",
    "\n",
    "plt.xlabel('x')\n",
    "plt.ylabel('z')\n",
    "\n",
    "plt.plot([cell.synapses[0].x], [cell.synapses[0].z], color='r', marker='o', markersize=10)\n",
    "plt.plot(0.0, 0.0, color='g', marker='*', markersize=10)\n",
    "\n",
    "plt.axis([-500, 500, -400, 1200])"
   ]
  },
  {
   "cell_type": "code",
   "execution_count": null,
   "metadata": {},
   "outputs": [],
   "source": [
    "electrode.calc_lfp()"
   ]
  },
  {
   "cell_type": "code",
   "execution_count": null,
   "metadata": {},
   "outputs": [],
   "source": [
    "#print(X.shape, electrode.LFP.shape)\n",
    "\n",
    "t3= X.shape + (electrode.LFP.shape[-1],)\n",
    "#print(electrode.LFP.reshape(t3).shape)\n",
    "\n",
    "#sio.savemat('single_synapse.mat', {'x': X.flatten(),'y': Y.flatten(),'z': Z.flatten(),'lfp':electrode.LFP[:,0]})\n",
    "sio.savemat('single_synapse.mat', {'lfp':electrode.LFP.reshape(t3)})"
   ]
  },
  {
   "cell_type": "code",
   "execution_count": null,
   "metadata": {},
   "outputs": [],
   "source": [
    "lfp_data2 = sio.loadmat('single_synapse.mat')\n",
    "print(lfp_data2.keys())\n",
    "print(lfp_data2['lfp'].shape)"
   ]
  },
  {
   "cell_type": "code",
   "execution_count": null,
   "metadata": {},
   "outputs": [],
   "source": [
    "import plotly.graph_objects as go\n",
    "\n",
    "\n",
    "limLFP = abs(electrode.LFP).max()\n",
    "\n",
    "fig = go.Figure(data=go.Volume(\n",
    "    x=X.flatten(),\n",
    "    y=Y.flatten(),\n",
    "    z=Z.flatten(),\n",
    "    value= electrode.LFP[:,200],\n",
    "    isomin=np.amin(electrode.LFP[:,200]),\n",
    "    isomax=np.amax(electrode.LFP[:,200]),\n",
    "    showscale=False,\n",
    "    opacity=0.1, # needs to be small to see through all surfaces\n",
    "    surface_count=17, # needs to be a large number for good volume rendering\n",
    "    ))\n",
    "fig.update_layout(scene_xaxis_showticklabels=False,\n",
    "                  scene_yaxis_showticklabels=False,\n",
    "                  scene_zaxis_showticklabels=False)\n",
    "fig.show()\n"
   ]
  },
  {
   "cell_type": "markdown",
   "metadata": {},
   "source": [
    "## Plot simulation output:"
   ]
  },
  {
   "cell_type": "code",
   "execution_count": null,
   "metadata": {},
   "outputs": [],
   "source": [
    "from example_suppl import plot_ex1\n",
    "fig = plot_ex1(cell, electrode, X, Y, Z, 10)\n",
    "# Optionally save figure (uncomment the line below)\n",
    "#fig.savefig('LFPy-example-5.png', dpi=300)\n",
    "#for i in list(range(1,100)):\n",
    "    #print('{:0>4}'.format(str(i)))\n",
    "#    fig = plot_ex1(cell, electrode, X, Y, Z, i)\n",
    "#    fig.savefig('output/'+'{:0>4}'.format(str(i))+'.png', dpi=300)"
   ]
  },
  {
   "cell_type": "code",
   "execution_count": null,
   "metadata": {},
   "outputs": [],
   "source": []
  },
  {
   "cell_type": "code",
   "execution_count": null,
   "metadata": {},
   "outputs": [],
   "source": []
  }
 ],
 "metadata": {
  "kernelspec": {
   "display_name": "Python 3",
   "language": "python",
   "name": "python3"
  },
  "language_info": {
   "codemirror_mode": {
    "name": "ipython",
    "version": 3
   },
   "file_extension": ".py",
   "mimetype": "text/x-python",
   "name": "python",
   "nbconvert_exporter": "python",
   "pygments_lexer": "ipython3",
   "version": "3.7.8"
  }
 },
 "nbformat": 4,
 "nbformat_minor": 4
}
