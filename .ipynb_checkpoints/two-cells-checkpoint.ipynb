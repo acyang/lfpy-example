{
 "cells": [
  {
   "cell_type": "code",
   "execution_count": 1,
   "metadata": {},
   "outputs": [
    {
     "name": "stdout",
     "output_type": "stream",
     "text": [
      "Populating the interactive namespace from numpy and matplotlib\n"
     ]
    }
   ],
   "source": [
    "%pylab inline"
   ]
  },
  {
   "cell_type": "code",
   "execution_count": 2,
   "metadata": {},
   "outputs": [],
   "source": [
    "import LFPy\n",
    "import neuron\n",
    "import matplotlib.pyplot as plt\n",
    "import numpy as np\n",
    "import scipy.io as sio"
   ]
  },
  {
   "cell_type": "code",
   "execution_count": 3,
   "metadata": {},
   "outputs": [],
   "source": [
    "#A plottin' function\n",
    "def plotcell(cell, color='k'):\n",
    "    for sec in cell.template.all:\n",
    "        idx = cell.get_idx(sec.name())\n",
    "        plt.plot(np.r_[cell.xstart[idx], cell.xend[idx][-1]],\n",
    "                 np.r_[cell.zstart[idx], cell.zend[idx][-1]],\n",
    "                 color=color)\n",
    "    print(' ')"
   ]
  },
  {
   "cell_type": "code",
   "execution_count": 4,
   "metadata": {},
   "outputs": [],
   "source": [
    "cellParameters = {\n",
    "    'morphology' : 'morphologies/L5_Mainen96_LFPy.hoc',\n",
    "    'tstart' : -50.,\n",
    "    'tstop' : 200.,\n",
    "    'dt' : 2**-4,\n",
    "    'passive' : True,\n",
    "}"
   ]
  },
  {
   "cell_type": "code",
   "execution_count": 5,
   "metadata": {},
   "outputs": [],
   "source": [
    "cellParameters_2 = {\n",
    "    'morphology' : 'morphologies/L5_Mainen96_LFPy.hoc',\n",
    "    'tstart' : -50.,\n",
    "    'tstop' : 200.,\n",
    "    'dt' : 2**-4,\n",
    "    'passive' : True,\n",
    "}"
   ]
  },
  {
   "cell_type": "code",
   "execution_count": 6,
   "metadata": {},
   "outputs": [],
   "source": [
    "#cells = []\n",
    "\n",
    "#cells.append(LFPy.Cell(**cellParameters))\n",
    "#cells[0].set_pos(x=-200., y=0., z=0.)    #Move the cell geometry so that midpoint of soma section\n",
    "#cells[0].set_rotation(z=np.pi)          #Rotate geometry of cell object around the x-, y-, z-axis\n",
    "#id = cells[0].get_idx(\"soma[0]\")\n",
    "#print(id)"
   ]
  },
  {
   "cell_type": "code",
   "execution_count": 7,
   "metadata": {},
   "outputs": [],
   "source": [
    "#cells.append(LFPy.Cell(**cellParameters))\n",
    "#cells[1].set_pos(x=200., y=0., z=0.)\n",
    "#cells[1].set_rotation(z=np.pi)\n",
    "#id = cells[1].get_idx(\"soma[0]\")\n",
    "#print(id)"
   ]
  },
  {
   "cell_type": "code",
   "execution_count": 8,
   "metadata": {},
   "outputs": [],
   "source": [
    "#cell_a = LFPy.Cell(**cellParameters)\n",
    "#cell_a.set_pos(x=-400., y=0., z=0.)\n",
    "#cell_b = LFPy.Cell(**cellParameters)\n",
    "#cell_b.set_pos(x=400., y=0., z=0.)\n",
    "#cell_b.set_rotation(z=np.pi)\n",
    "\n",
    "#figure(figsize=(12, 6))\n",
    "#subplot(131)\n",
    "\n",
    "#zips = []\n",
    "#for x, z in cell_a.get_idx_polygons(projection=('x', 'z')):\n",
    "#    zips.append(list(zip(x, z)))\n",
    "    #print(type(zip(x, z)))\n",
    "#for x, z in cell_b.get_idx_polygons(projection=('x', 'z')):\n",
    "#    zips.append(list(zip(x, z)))\n",
    "    \n",
    "#polycol = PolyCollection(zips,edgecolors='none',facecolors='gray')\n",
    "\n",
    "#fig = plt.figure()\n",
    "#ax = fig.add_subplot(111)\n",
    "#ax.add_collection(polycol)\n",
    "#ax.plot(cell.xmid[synapse.idx], cell.zmid[synapse.idx], 'ro')\n",
    "#ax.axis(ax.axis('equal'))\n",
    "#plt.show()\n",
    "#print(cells[0].get_idx(\"apic[48]\"))\n",
    "#print(cells[1].get_idx(\"apic[35]\"))\n",
    "#print(cells[0].allsecnames)\n",
    "#for c in cells:\n",
    "#    for secname in c.allsecnames:\n",
    "#        idx = c.get_idx(secname)\n",
    "#        print(c, secname, idx)\n",
    "#        plot(np.r_[c.xstart[idx], c.xend[idx][-1]],\n",
    "#             np.r_[c.zstart[idx], c.zend[idx][-1]],\n",
    "#             color='k')    \n",
    "\n",
    "#for secname in cell_a.allsecnames:\n",
    "#    print(secname, idx)\n",
    "#    plot(np.r_[cell_a.xstart[idx], cell_a.xend[idx][-1]],\n",
    "#         np.r_[cell_a.zstart[idx], cell_a.zend[idx][-1]],\n",
    "#         color='k')\n",
    "\n",
    "#for sec in LFPy.cell.neuron.h.allsec():\n",
    "#    idx = cells[0].get_idx(sec.name())\n",
    "#    print(sec, sec.name(), idx)\n",
    "#    plot(np.r_[cells[0].xstart[idx], cells[0].xend[idx][-1]],\n",
    "#         np.r_[cells[0].zstart[idx], cells[0].zend[idx][-1]],\n",
    "#         color='k')\n",
    "\n",
    "#for c in cells:\n",
    "#    for sec in LFPy.cell.neuron.h.allsec():\n",
    "#        idx = c.get_idx(sec.name())\n",
    "#        print(sec.name(), sec, idx)\n",
    "#        plot(np.r_[c.xstart[idx], c.xend[idx][-1]],\n",
    "#             np.r_[c.zstart[idx], c.zend[idx][-1]],\n",
    "#             color='k')"
   ]
  },
  {
   "cell_type": "code",
   "execution_count": 9,
   "metadata": {},
   "outputs": [
    {
     "data": {
      "text/plain": [
       "1"
      ]
     },
     "execution_count": 9,
     "metadata": {},
     "output_type": "execute_result"
    }
   ],
   "source": [
    "#delete cell instances from previous script executions,\n",
    "neuron.h('forall delete_section()')"
   ]
  },
  {
   "cell_type": "code",
   "execution_count": 10,
   "metadata": {},
   "outputs": [],
   "source": [
    "cellParameters1 = {\n",
    "    'morphology' : 'morphologies/markram/CNG version/C010398B-P2.CNG.swc',\n",
    "    'templatefile' : 'LFPyCellTemplate.hoc',\n",
    "    'templatename' : 'LFPyCellTemplate',\n",
    "    'templateargs' : None,\n",
    "    'tstart' : -50.,\n",
    "    'tstop' : 200.,\n",
    "    'dt' : 2**-4,\n",
    "    'passive' : True,\n",
    "}"
   ]
  },
  {
   "cell_type": "code",
   "execution_count": null,
   "metadata": {},
   "outputs": [
    {
     "name": "stdout",
     "output_type": "stream",
     "text": [
      "One point section Import3d_Section[2] ending at line 27 has been removed\n",
      "One point section Import3d_Section[1] ending at line 26 has been removed\n",
      " \n"
     ]
    }
   ],
   "source": [
    "#create some cell instances, set the positions, plot the morphologies\n",
    "cell1 = LFPy.TemplateCell(**cellParameters1)\n",
    "cell1.set_pos(x=200., y=0., z=0.)\n",
    "plotcell(cell=cell1, color='r')\n",
    "\n",
    "\n",
    "cell2 = LFPy.TemplateCell(\n",
    "    morphology='morphologies/markram/Source-Version/C010398B-P2.asc',\n",
    "    templatefile='LFPyCellTemplate.hoc',\n",
    "    templatename='LFPyCellTemplate',\n",
    "    templateargs=None)\n",
    "cell2.set_pos(x=-200., y=0., z=0.)\n",
    "cell2.set_rotation(z=np.pi)\n",
    "plotcell(cell=cell2, color='g')\n",
    "\n",
    "cell3 = LFPy.TemplateCell(\n",
    "    morphology='morphologies/markram/Source-Version/C010398B-P2.asc',\n",
    "    templatefile='LFPyCellTemplate.hoc',\n",
    "    templatename='LFPyCellTemplate',\n",
    "    templateargs=None)\n",
    "cell3.set_pos(x=100., y=20., z=10.)\n",
    "cell3.set_rotation(z=np.pi)\n",
    "plotcell(cell=cell3, color='b')\n",
    "plt.show()"
   ]
  },
  {
   "cell_type": "code",
   "execution_count": null,
   "metadata": {},
   "outputs": [],
   "source": [
    "synapseParameters = {\n",
    "    'syntype' : 'Exp2Syn',\n",
    "    'e' : 0.,\n",
    "    'tau1' : 0.5,     #rise time\n",
    "    'tau2' : 2.0,     #decay time\n",
    "    'weight' : 0.005,\n",
    "    'record_current' : True,\n",
    "}"
   ]
  },
  {
   "cell_type": "code",
   "execution_count": null,
   "metadata": {},
   "outputs": [],
   "source": [
    "synapse1 = LFPy.Synapse(cell1,\n",
    "                       idx = cell1.get_closest_idx(x=200., y=0.,z=200.),\n",
    "                       **synapseParameters)\n",
    "\n",
    "#synapse1.set_spike_times(np.array([10.]))"
   ]
  },
  {
   "cell_type": "code",
   "execution_count": null,
   "metadata": {},
   "outputs": [],
   "source": [
    "X, Y, Z = np.mgrid[-700:701:50, -700:701:50, -400:1201:50]\n",
    "#X, Z = np.mgrid[-700:701:50, -400:1201:50]\n",
    "#Y = np.zeros(X.shape)\n",
    "grid_electrode_parameters = {\n",
    "    'sigma' : 0.3,      # extracellular conductivity\n",
    "    'x' : X.flatten(),  # electrode requires 1d vector of positions\n",
    "    'y' : Y.flatten(),\n",
    "    'z' : Z.flatten(),\n",
    "}\n",
    "\n",
    "print(X.shape,Y.shape,Z.shape)\n",
    "#for i,j,k in zip(X.flatten(),Y.flatten(),Z.flatten()):\n",
    "#    print(i,j,k)\n",
    "sio.savemat('mgrida.mat', {'x': X.flatten(),'y': Y.flatten(),'z': Z.flatten()}) \n",
    "n_grid_electrode=X.flatten().size\n",
    "print(n_grid_electrode)\n",
    "data=sio.loadmat('lfp.mat')\n",
    "print(data['lfp'].shape)"
   ]
  },
  {
   "cell_type": "code",
   "execution_count": null,
   "metadata": {},
   "outputs": [],
   "source": [
    "synapse_b = LFPy.Synapse(cell_b,\n",
    "                       idx = cell_b.get_closest_idx(x=400., y=0.,z=800.),\n",
    "                       **synapseParameters)\n",
    "\n",
    "synapse_b.set_spike_times(np.array([10., 30., 50.]))"
   ]
  },
  {
   "cell_type": "code",
   "execution_count": null,
   "metadata": {},
   "outputs": [],
   "source": [
    "z = mgrid[-400:1201:100]\n",
    "electrodeParameters = {\n",
    "    'x' : zeros(z.size),\n",
    "    'y' : zeros(z.size),\n",
    "    'z' : z,\n",
    "    'sigma' : 0.3,\n",
    "}"
   ]
  },
  {
   "cell_type": "code",
   "execution_count": null,
   "metadata": {},
   "outputs": [],
   "source": [
    "electrode = LFPy.RecExtElectrode(**electrodeParameters)"
   ]
  },
  {
   "cell_type": "code",
   "execution_count": null,
   "metadata": {},
   "outputs": [],
   "source": [
    "#cell.simulate(electrode = electrode)\n",
    "#cell.simulate()"
   ]
  },
  {
   "cell_type": "code",
   "execution_count": null,
   "metadata": {},
   "outputs": [],
   "source": [
    "synapseParameters = {\n",
    "    'syntype' : 'Exp2Syn',\n",
    "    'e' : 0.,\n",
    "    'tau1' : 0.5,\n",
    "    'tau2' : 2.0,\n",
    "    'weight' : 0.005,\n",
    "    'record_current' : True,\n",
    "}"
   ]
  },
  {
   "cell_type": "code",
   "execution_count": null,
   "metadata": {},
   "outputs": [],
   "source": [
    "z = mgrid[-400:1201:100]\n",
    "electrodeParameters = {\n",
    "    'x' : zeros(z.size),\n",
    "    'y' : zeros(z.size),\n",
    "    'z' : z,\n",
    "    'sigma' : 0.3,\n",
    "}"
   ]
  }
 ],
 "metadata": {
  "kernelspec": {
   "display_name": "Python 3",
   "language": "python",
   "name": "python3"
  },
  "language_info": {
   "codemirror_mode": {
    "name": "ipython",
    "version": 3
   },
   "file_extension": ".py",
   "mimetype": "text/x-python",
   "name": "python",
   "nbconvert_exporter": "python",
   "pygments_lexer": "ipython3",
   "version": "3.7.6"
  }
 },
 "nbformat": 4,
 "nbformat_minor": 4
}
