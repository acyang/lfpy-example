{
 "cells": [
  {
   "cell_type": "code",
   "execution_count": 1,
   "metadata": {
    "ExecuteTime": {
     "end_time": "2020-01-25T14:05:16.896430Z",
     "start_time": "2020-01-25T14:05:16.889449Z"
    }
   },
   "outputs": [],
   "source": [
    "%matplotlib inline"
   ]
  },
  {
   "cell_type": "markdown",
   "metadata": {},
   "source": [
    "# Example plot for LFPy: Mainen and Sejnowski (1996) spike waveforms\n",
    "This is an example scripts using LFPy with an active cell model adapted from\n",
    "Mainen and Sejnowski, Nature 1996, for the original files, see\n",
    "http://senselab.med.yale.edu/modeldb/ShowModel.asp?model=2488\n",
    "\n",
    "This scripts is set up to use the model, where the active conductances are set\n",
    "in the file \"active_declarations_example2.hoc\", and uses the mechanisms from\n",
    "the .mod-files provided here. For this example to work, run \"nrnivmodl\" in\n",
    "this folder to compile these mechanisms\n",
    "(i.e. /$PATHTONEURON/nrn/x86_64/bin/nrnivmodl).\n",
    "\n",
    "A single excitatory synapse drive the neuron into producing a single action-\n",
    "potential, and the local field potential are calculated on a dense 2D-grid\n",
    "on around the soma.\n",
    "\n",
    "\n",
    "Copyright (C) 2017 Computational Neuroscience Group, NMBU.\n",
    "\n",
    "This program is free software: you can redistribute it and/or modify\n",
    "it under the terms of the GNU General Public License as published by\n",
    "the Free Software Foundation, either version 3 of the License, or\n",
    "(at your option) any later version.\n",
    "\n",
    "This program is distributed in the hope that it will be useful,\n",
    "but WITHOUT ANY WARRANTY; without even the implied warranty of\n",
    "MERCHANTABILITY or FITNESS FOR A PARTICULAR PURPOSE.  See the\n",
    "GNU General Public License for more details."
   ]
  },
  {
   "cell_type": "code",
   "execution_count": 2,
   "metadata": {
    "ExecuteTime": {
     "end_time": "2020-01-25T14:05:16.927412Z",
     "start_time": "2020-01-25T14:05:16.901430Z"
    }
   },
   "outputs": [],
   "source": [
    "import os\n",
    "from os.path import join\n",
    "import sys\n",
    "if sys.version < '3':\n",
    "    from urllib2 import urlopen\n",
    "else:    \n",
    "    from urllib.request import urlopen\n",
    "import zipfile\n",
    "import ssl\n",
    "from warnings import warn\n",
    "import LFPy\n",
    "import neuron\n",
    "import numpy as np\n",
    "import matplotlib.pyplot as plt\n",
    "from matplotlib.collections import PolyCollection\n",
    "import scipy.io as sio\n",
    "import csv"
   ]
  },
  {
   "cell_type": "markdown",
   "metadata": {},
   "source": [
    "## Fetch Mainen&Sejnowski 1996 model files:"
   ]
  },
  {
   "cell_type": "code",
   "execution_count": 3,
   "metadata": {
    "ExecuteTime": {
     "end_time": "2020-01-25T14:05:16.955395Z",
     "start_time": "2020-01-25T14:05:16.932410Z"
    }
   },
   "outputs": [],
   "source": [
    "if not os.path.isfile(join('cells', 'cells', 'j4a.hoc')):\n",
    "    # get the model files:\n",
    "    u = urlopen('http://senselab.med.yale.edu/ModelDB/eavBinDown.asp?o=2488&a=23&mime=application/zip',\n",
    "                context=ssl._create_unverified_context())\n",
    "    localFile = open('patdemo.zip', 'wb')\n",
    "    localFile.write(u.read())\n",
    "    localFile.close()\n",
    "    #unzip:\n",
    "    myzip = zipfile.ZipFile('patdemo.zip', 'r')\n",
    "    myzip.extractall('.')\n",
    "    myzip.close()\n",
    "\n",
    "# compile mod files every time, because of incompatibility with Hay2011 files:\n",
    "if \"win32\" in sys.platform:\n",
    "    pth = \"cells\"\n",
    "    warn(\"no autompile of NMODL (.mod) files on Windows. \" \n",
    "         + \"Run mknrndll from NEURON bash in the folder cells and rerun example script\")\n",
    "    if not pth in neuron.nrn_dll_loaded:\n",
    "        neuron.h.nrn_load_dll(pth+\"/nrnmech.dll\")\n",
    "    neuron.nrn_dll_loaded.append(pth)\n",
    "else:\n",
    "    os.system('''\n",
    "              cd cells\n",
    "              nrnivmodl\n",
    "              ''')\n",
    "    neuron.load_mechanisms('cells')"
   ]
  },
  {
   "cell_type": "markdown",
   "metadata": {},
   "source": [
    "## Simulation parameters:\n",
    "Define parameters, using dictionaries. It is possible to set a few more parameters for each class or functions, but we chose to show only the most important ones here."
   ]
  },
  {
   "cell_type": "code",
   "execution_count": 4,
   "metadata": {
    "ExecuteTime": {
     "end_time": "2020-01-25T14:05:17.000370Z",
     "start_time": "2020-01-25T14:05:16.960393Z"
    }
   },
   "outputs": [],
   "source": [
    "# define cell parameters used as input to cell-class\n",
    "cellParameters = {\n",
    "    'morphology' : 'morphologies/L5_Mainen96_wAxon_LFPy.hoc',\n",
    "    'cm' : 1.0,                 # membrane capacitance\n",
    "    'Ra' : 150,                 # axial resistance\n",
    "    'v_init' : -65,             # initial crossmembrane potential\n",
    "    'passive' : True,           # turn on passive mechanism\n",
    "    'passive_parameters' : {'g_pas' : 1./30000, 'e_pas' : -65}, # passive params\n",
    "    'nsegs_method' : 'lambda_f',# method for setting number of segments,\n",
    "    'lambda_f' : 500,           # segments are isopotential at this frequency\n",
    "    'dt' : 2**-5,               # dt of LFP and NEURON simulation.\n",
    "    'tstart' : 0.0,             # start time, recorders start at t=0\n",
    "    'tstop' : 20.0,               # stop time of simulation\n",
    "    'custom_code'  : ['active_declarations_example2.hoc'], # will run this file\n",
    "}\n",
    "\n",
    "# Synaptic parameters, corresponding to a NetCon synapse built into NEURON\n",
    "synapseParameters = {\n",
    "    'idx' : 0,               # insert synapse on index \"0\", the soma\n",
    "    'e' : 0.,                # reversal potential of synapse\n",
    "    'syntype' : 'Exp2Syn',   # conductance based double-exponential synapse\n",
    "    'tau1' : 1.0,            # Time constant, rise\n",
    "    'tau2' : 1.0,            # Time constant, decay\n",
    "    'weight' : 0.03,         # Synaptic weight\n",
    "    'record_current' : True, # Will enable synapse current recording\n",
    "}\n",
    "\n",
    "np.random.seed(1676)\n",
    "shift_x=np.random.uniform(-150.,150.,10)\n",
    "\n",
    "np.random.seed(14)\n",
    "shift_y=np.random.uniform(-25.,25.,10)\n",
    "\n",
    "np.random.seed(251)\n",
    "shift_z=np.random.uniform(-150.,150.,10)\n",
    "\n",
    "#np.random.seed(511)\n",
    "#randParameters=np.random.choice(cellParameters,size=10)\n",
    "\n",
    "colors=[]\n",
    "np.random.seed(562)\n",
    "for i in range(10):\n",
    "    colors.append(tuple(np.random.rand(3))+(0.5,))\n",
    "    \n",
    "#print(shift_x)\n",
    "#print(shift_y)\n",
    "#print(shift_z)\n",
    "#print(randParameters)\n",
    "#print(colors)\n",
    "#for x, y, z in zip(shift_x, shift_y, shift_z):\n",
    "#    print(x, y, z)\n",
    "\n",
    "# Generate the grid in xz-plane over which we calculate local field potentials\n",
    "lattice_constance = 10.0\n",
    "u_0 = (lattice_constance, 0.0)\n",
    "u_1 = (0.5*lattice_constance, 0.5*np.sqrt(3.0)*lattice_constance)\n",
    "id=0\n",
    "x=np.zeros(10*10*3)\n",
    "y=np.zeros(10*10*3)\n",
    "z=np.zeros(10*10*3)\n",
    "for j in range(-1, 2):\n",
    "    for k in range(-3, 4):\n",
    "        for i in range(-5, 6):\n",
    "            #print(i,j,k)\n",
    "            x_test=u_0[0]*i+u_1[0]*k\n",
    "            if(x_test>-155.0 and x_test<155.0):\n",
    "                x[id]=x_test\n",
    "                y[id]=lattice_constance*j\n",
    "                z[id]=u_0[1]*i+u_1[1]*k\n",
    "                id += 1          \n",
    "            else:\n",
    "                #print(\"truncated\")\n",
    "                pass\n",
    "\n",
    "# define parameters for extracellular recording electrode, using optional method\n",
    "electrodeParameters = {\n",
    "    'sigma' : 0.3,              # extracellular conductivity\n",
    "    'x' : x,        # x,y,z-coordinates of contact points\n",
    "    'y' : y,\n",
    "    'z' : z,\n",
    "    'method' : 'soma_as_point',  #treat soma segment as sphere source\n",
    "}"
   ]
  },
  {
   "cell_type": "code",
   "execution_count": 5,
   "metadata": {},
   "outputs": [],
   "source": [
    "# Generate the grid in xz-plane over which we calculate local field potentials\n",
    "x, y, z = np.mgrid[-10:10, -10:10, -10:10] * 10\n",
    "\n",
    "# define parameters for extracellular recording electrode, using optional method\n",
    "electrodeParameters_grid = {\n",
    "    'sigma' : 0.3,              # extracellular conductivity\n",
    "    'x' : x.flatten(),        # x,y,z-coordinates of contact points\n",
    "    'y' : y.flatten(),\n",
    "    'z' : z.flatten(),\n",
    "    'method' : 'soma_as_point',  #treat soma segment as sphere source\n",
    "}"
   ]
  },
  {
   "cell_type": "markdown",
   "metadata": {},
   "source": [
    "## Main simulation procedure, setting up extracellular electrode, cell, synapse:"
   ]
  },
  {
   "cell_type": "code",
   "execution_count": 6,
   "metadata": {
    "ExecuteTime": {
     "end_time": "2020-01-25T14:06:04.864985Z",
     "start_time": "2020-01-25T14:05:17.005369Z"
    }
   },
   "outputs": [
    {
     "ename": "TypeError",
     "evalue": "ufunc 'true_divide' output (typecode 'd') could not be coerced to provided output parameter (typecode 'l') according to the casting rule ''same_kind''",
     "output_type": "error",
     "traceback": [
      "\u001b[0;31m---------------------------------------------------------------------------\u001b[0m",
      "\u001b[0;31mTypeError\u001b[0m                                 Traceback (most recent call last)",
      "\u001b[0;32m<ipython-input-6-27eb58296dd8>\u001b[0m in \u001b[0;36m<module>\u001b[0;34m\u001b[0m\n\u001b[1;32m      1\u001b[0m \u001b[0;31m# create extracellular electrode object\u001b[0m\u001b[0;34m\u001b[0m\u001b[0;34m\u001b[0m\u001b[0;34m\u001b[0m\u001b[0m\n\u001b[0;32m----> 2\u001b[0;31m \u001b[0melectrode\u001b[0m \u001b[0;34m=\u001b[0m \u001b[0mLFPy\u001b[0m\u001b[0;34m.\u001b[0m\u001b[0mRecExtElectrode\u001b[0m\u001b[0;34m(\u001b[0m\u001b[0;34m**\u001b[0m\u001b[0melectrodeParameters_grid\u001b[0m\u001b[0;34m)\u001b[0m\u001b[0;34m\u001b[0m\u001b[0;34m\u001b[0m\u001b[0m\n\u001b[0m\u001b[1;32m      3\u001b[0m \u001b[0;34m\u001b[0m\u001b[0m\n\u001b[1;32m      4\u001b[0m \u001b[0;31m# Initialize cell instance, using the LFPy.Cell class\u001b[0m\u001b[0;34m\u001b[0m\u001b[0;34m\u001b[0m\u001b[0;34m\u001b[0m\u001b[0m\n\u001b[1;32m      5\u001b[0m \u001b[0mcell\u001b[0m \u001b[0;34m=\u001b[0m \u001b[0mLFPy\u001b[0m\u001b[0;34m.\u001b[0m\u001b[0mCell\u001b[0m\u001b[0;34m(\u001b[0m\u001b[0;34m**\u001b[0m\u001b[0mcellParameters\u001b[0m\u001b[0;34m)\u001b[0m\u001b[0;34m\u001b[0m\u001b[0;34m\u001b[0m\u001b[0m\n",
      "\u001b[0;32m/opt/conda/envs/lfpy/lib/python3.8/site-packages/LFPy/recextelectrode.py\u001b[0m in \u001b[0;36m__init__\u001b[0;34m(self, cell, sigma, probe, x, y, z, N, r, n, contact_shape, perCellLFP, method, from_file, cellfile, verbose, seedvalue, **kwargs)\u001b[0m\n\u001b[1;32m    289\u001b[0m             probe_info = {'pos': positions, 'description': 'custom', 'size': self.r, 'shape': self.contact_shape,\n\u001b[1;32m    290\u001b[0m                           'type': 'wire', 'center': False}  # add mea type\n\u001b[0;32m--> 291\u001b[0;31m             \u001b[0mself\u001b[0m\u001b[0;34m.\u001b[0m\u001b[0mprobe\u001b[0m \u001b[0;34m=\u001b[0m \u001b[0mmu\u001b[0m\u001b[0;34m.\u001b[0m\u001b[0mMEA\u001b[0m\u001b[0;34m(\u001b[0m\u001b[0mpositions\u001b[0m\u001b[0;34m=\u001b[0m\u001b[0mpositions\u001b[0m\u001b[0;34m,\u001b[0m \u001b[0minfo\u001b[0m\u001b[0;34m=\u001b[0m\u001b[0mprobe_info\u001b[0m\u001b[0;34m,\u001b[0m \u001b[0mnormal\u001b[0m\u001b[0;34m=\u001b[0m\u001b[0mself\u001b[0m\u001b[0;34m.\u001b[0m\u001b[0mN\u001b[0m\u001b[0;34m,\u001b[0m \u001b[0msigma\u001b[0m\u001b[0;34m=\u001b[0m\u001b[0mself\u001b[0m\u001b[0;34m.\u001b[0m\u001b[0msigma\u001b[0m\u001b[0;34m)\u001b[0m\u001b[0;34m\u001b[0m\u001b[0;34m\u001b[0m\u001b[0m\n\u001b[0m\u001b[1;32m    292\u001b[0m         \u001b[0;32melse\u001b[0m\u001b[0;34m:\u001b[0m\u001b[0;34m\u001b[0m\u001b[0;34m\u001b[0m\u001b[0m\n\u001b[1;32m    293\u001b[0m             \u001b[0;32massert\u001b[0m \u001b[0misinstance\u001b[0m\u001b[0;34m(\u001b[0m\u001b[0mprobe\u001b[0m\u001b[0;34m,\u001b[0m \u001b[0mmu\u001b[0m\u001b[0;34m.\u001b[0m\u001b[0mcore\u001b[0m\u001b[0;34m.\u001b[0m\u001b[0mMEA\u001b[0m\u001b[0;34m)\u001b[0m\u001b[0;34m,\u001b[0m \u001b[0;34m\"'probe' should be a MEAutility MEA object\"\u001b[0m\u001b[0;34m\u001b[0m\u001b[0;34m\u001b[0m\u001b[0m\n",
      "\u001b[0;32m/opt/conda/envs/lfpy/lib/python3.8/site-packages/MEAutility/core.py\u001b[0m in \u001b[0;36m__init__\u001b[0;34m(self, positions, info, normal, points_per_electrode, sigma)\u001b[0m\n\u001b[1;32m    376\u001b[0m                     \u001b[0mnormal\u001b[0m \u001b[0;34m=\u001b[0m \u001b[0mnp\u001b[0m\u001b[0;34m.\u001b[0m\u001b[0mcross\u001b[0m\u001b[0;34m(\u001b[0m\u001b[0mpositions\u001b[0m\u001b[0;34m[\u001b[0m\u001b[0;36m0\u001b[0m\u001b[0;34m]\u001b[0m\u001b[0;34m,\u001b[0m \u001b[0mpositions\u001b[0m\u001b[0;34m[\u001b[0m\u001b[0;36m1\u001b[0m\u001b[0;34m]\u001b[0m\u001b[0;34m)\u001b[0m\u001b[0;34m\u001b[0m\u001b[0;34m\u001b[0m\u001b[0m\n\u001b[1;32m    377\u001b[0m                     \u001b[0;32mif\u001b[0m \u001b[0mnp\u001b[0m\u001b[0;34m.\u001b[0m\u001b[0mlinalg\u001b[0m\u001b[0;34m.\u001b[0m\u001b[0mnorm\u001b[0m\u001b[0;34m(\u001b[0m\u001b[0mnormal\u001b[0m\u001b[0;34m)\u001b[0m \u001b[0;34m>\u001b[0m \u001b[0;36m0\u001b[0m\u001b[0;34m:\u001b[0m\u001b[0;34m\u001b[0m\u001b[0;34m\u001b[0m\u001b[0m\n\u001b[0;32m--> 378\u001b[0;31m                         \u001b[0mnormal\u001b[0m \u001b[0;34m/=\u001b[0m \u001b[0mnp\u001b[0m\u001b[0;34m.\u001b[0m\u001b[0mlinalg\u001b[0m\u001b[0;34m.\u001b[0m\u001b[0mnorm\u001b[0m\u001b[0;34m(\u001b[0m\u001b[0mnormal\u001b[0m\u001b[0;34m)\u001b[0m\u001b[0;34m\u001b[0m\u001b[0;34m\u001b[0m\u001b[0m\n\u001b[0m\u001b[1;32m    379\u001b[0m                         \u001b[0mself\u001b[0m\u001b[0;34m.\u001b[0m\u001b[0mnormal\u001b[0m \u001b[0;34m=\u001b[0m \u001b[0mnp\u001b[0m\u001b[0;34m.\u001b[0m\u001b[0marray\u001b[0m\u001b[0;34m(\u001b[0m\u001b[0;34m[\u001b[0m\u001b[0mnormal\u001b[0m\u001b[0;34m]\u001b[0m \u001b[0;34m*\u001b[0m \u001b[0mself\u001b[0m\u001b[0;34m.\u001b[0m\u001b[0mnumber_electrodes\u001b[0m\u001b[0;34m)\u001b[0m\u001b[0;34m\u001b[0m\u001b[0;34m\u001b[0m\u001b[0m\n\u001b[1;32m    380\u001b[0m                     \u001b[0;32melse\u001b[0m\u001b[0;34m:\u001b[0m\u001b[0;34m\u001b[0m\u001b[0;34m\u001b[0m\u001b[0m\n",
      "\u001b[0;31mTypeError\u001b[0m: ufunc 'true_divide' output (typecode 'd') could not be coerced to provided output parameter (typecode 'l') according to the casting rule ''same_kind''"
     ]
    }
   ],
   "source": [
    "# create extracellular electrode object\n",
    "electrode = LFPy.RecExtElectrode(**electrodeParameters_grid)\n",
    "\n",
    "# Initialize cell instance, using the LFPy.Cell class\n",
    "cell = LFPy.Cell(**cellParameters)\n",
    "# set the position of midpoint in soma to Origo (not needed, this is the default)\n",
    "cell.set_pos(x = 0, y = 0, z = 0)\n",
    "# rotate the morphology 90 degrees around z-axis\n",
    "cell.set_rotation(z = np.pi/2)\n",
    "\n",
    "# attach synapse with parameters and set spike time\n",
    "synapse = LFPy.Synapse(cell, **synapseParameters)\n",
    "synapse.set_spike_times(np.array([1.0, 15.0]))\n",
    "\n",
    "# perform NEURON simulation, results saved as attributes in the cell instance\n",
    "cell.simulate(electrode = electrode)"
   ]
  },
  {
   "cell_type": "markdown",
   "metadata": {},
   "source": [
    "## Plotting of simulation results:"
   ]
  },
  {
   "cell_type": "code",
   "execution_count": null,
   "metadata": {
    "ExecuteTime": {
     "end_time": "2020-01-25T14:06:07.577439Z",
     "start_time": "2020-01-25T14:06:04.870984Z"
    }
   },
   "outputs": [],
   "source": [
    "from example_suppl import plot_ex2\n",
    "fig = plot_ex2(cell, electrode)\n",
    "# Optional: saving the figure\n",
    "# fig.savefig('LFPy-example-6.pdf', dpi=300)"
   ]
  },
  {
   "cell_type": "code",
   "execution_count": null,
   "metadata": {
    "ExecuteTime": {
     "end_time": "2020-01-25T14:06:11.365265Z",
     "start_time": "2020-01-25T14:06:07.586434Z"
    }
   },
   "outputs": [],
   "source": [
    "fig = plt.figure(dpi=300)\n",
    "\n",
    "ax = fig.add_axes([0.0,0.0,0.7,1.0], frameon=True)\n",
    "\n",
    "#plot electrode\n",
    "ax.plot(electrode.x, electrode.z,'.', marker='^', color='g')\n",
    "\n",
    "i = 0\n",
    "limLFP = abs(electrode.LFP).max()\n",
    "for LFP in electrode.LFP:\n",
    "    tvec = cell.tvec*0.2 + electrode.x[i] + 2\n",
    "    if abs(LFP).max() >= 1:\n",
    "        factor = 2\n",
    "        color='r'\n",
    "    elif abs(LFP).max() < 0.25:\n",
    "        factor = 50\n",
    "        color = 'b'\n",
    "    else:\n",
    "        factor = 10\n",
    "        color = 'g'\n",
    "    trace = LFP*factor + electrode.z[i]\n",
    "    ax.plot(tvec, trace, color=color, lw = 1)\n",
    "    i += 1\n",
    "\n",
    "#plot cell morphology\n",
    "zips = []\n",
    "for x, z in cell.get_idx_polygons():\n",
    "    zips.append(list(zip(x, z)))\n",
    "\n",
    "polycol = PolyCollection(zips,\n",
    "                         edgecolors='none',\n",
    "                         facecolors=colors[0], alpha=0.4)\n",
    "ax.add_collection(polycol)\n",
    "\n",
    "#ax.plot([100, 200], [-400, -400], 'k', lw=1, clip_on=False)\n",
    "#ax.text(150, -470, r'100$\\mu$m', va='center', ha='center')\n",
    "\n",
    "ax.axis('on')\n",
    "ax.axis([-200., 200., -200., 200.])\n",
    "\n",
    "#plot Synapse\n",
    "ax.plot(cell.xmid[cell.synidx],cell.zmid[cell.synidx], 'o', ms=5,\n",
    "        markeredgecolor='none',\n",
    "        markerfacecolor='r')\n",
    "\n",
    "ax = fig.add_axes([0.75, 0.0, 0.25, 1.0])\n",
    "i = 0\n",
    "limLFP = abs(electrode.LFP).max()\n",
    "for LFP in electrode.LFP:\n",
    "    tvec = cell.tvec\n",
    "    if abs(LFP).max() >= 1:\n",
    "        factor = 2\n",
    "        color='r'\n",
    "    elif abs(LFP).max() < 0.25:\n",
    "        factor = 50\n",
    "        color = 'b'\n",
    "    else:\n",
    "        factor = 10\n",
    "        color = 'g'\n",
    "    trace = LFP*factor + i\n",
    "    ax.plot(cell.tvec, trace, color=color, lw = 0.25)\n",
    "    i += 1"
   ]
  },
  {
   "cell_type": "code",
   "execution_count": null,
   "metadata": {},
   "outputs": [],
   "source": [
    "import plotly.graph_objects as go\n",
    "import scipy.io as sio"
   ]
  },
  {
   "cell_type": "code",
   "execution_count": null,
   "metadata": {},
   "outputs": [],
   "source": [
    "print(electrode.LFP.shape)\n",
    "print(electrode.LFP[:,201])"
   ]
  },
  {
   "cell_type": "code",
   "execution_count": null,
   "metadata": {
    "scrolled": true
   },
   "outputs": [],
   "source": [
    "fig = go.Figure(data=go.Volume(\n",
    "    x=x.flatten(),\n",
    "    y=z.flatten(),\n",
    "    z=y.flatten(),\n",
    "    value= np.log10(electrode.LFP[:,0]),\n",
    "    isomin=np.amin(np.log10(electrode.LFP)),\n",
    "    isomax=np.amax(np.log10(electrode.LFP)),\n",
    "    opacity=0.1, # needs to be small to see through all surfaces\n",
    "    surface_count=25, # needs to be a large number for good volume rendering\n",
    "    ))\n",
    "fig.update_layout(scene_xaxis_showticklabels=False,\n",
    "                  scene_yaxis_showticklabels=False,\n",
    "                  scene_zaxis_showticklabels=False)\n",
    "fig.show(renderer=\"notebook\")"
   ]
  },
  {
   "cell_type": "code",
   "execution_count": null,
   "metadata": {},
   "outputs": [],
   "source": []
  }
 ],
 "metadata": {
  "hide_input": false,
  "kernelspec": {
   "display_name": "Python 3",
   "language": "python",
   "name": "python3"
  },
  "language_info": {
   "codemirror_mode": {
    "name": "ipython",
    "version": 3
   },
   "file_extension": ".py",
   "mimetype": "text/x-python",
   "name": "python",
   "nbconvert_exporter": "python",
   "pygments_lexer": "ipython3",
   "version": "3.8.6"
  },
  "toc": {
   "base_numbering": 1,
   "nav_menu": {},
   "number_sections": true,
   "sideBar": true,
   "skip_h1_title": false,
   "title_cell": "Table of Contents",
   "title_sidebar": "Contents",
   "toc_cell": false,
   "toc_position": {},
   "toc_section_display": true,
   "toc_window_display": false
  },
  "varInspector": {
   "cols": {
    "lenName": 16,
    "lenType": 16,
    "lenVar": 40
   },
   "kernels_config": {
    "python": {
     "delete_cmd_postfix": "",
     "delete_cmd_prefix": "del ",
     "library": "var_list.py",
     "varRefreshCmd": "print(var_dic_list())"
    },
    "r": {
     "delete_cmd_postfix": ") ",
     "delete_cmd_prefix": "rm(",
     "library": "var_list.r",
     "varRefreshCmd": "cat(var_dic_list()) "
    }
   },
   "types_to_exclude": [
    "module",
    "function",
    "builtin_function_or_method",
    "instance",
    "_Feature"
   ],
   "window_display": false
  }
 },
 "nbformat": 4,
 "nbformat_minor": 4
}
